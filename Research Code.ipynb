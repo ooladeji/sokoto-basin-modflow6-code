{
 "cells": [
  {
   "cell_type": "code",
   "execution_count": 1,
   "id": "e42f0b84",
   "metadata": {},
   "outputs": [],
   "source": [
    "# Import the necessary Python Libraries\n",
    "import os\n",
    "import numpy as np\n",
    "import matplotlib as mpl\n",
    "import matplotlib.pyplot as plt\n",
    "import flopy as fp"
   ]
  },
  {
   "cell_type": "code",
   "execution_count": 2,
   "id": "be7ee9d7",
   "metadata": {},
   "outputs": [],
   "source": [
    "modelname = 'sokotoproject5'\n",
    "modelws = './sokotoproject5'\n",
    "path = os.getcwd() # path to current working directory\n",
    "plt.rcParams['figure.figsize'] = (5, 5) #default figure size\n",
    "plt.rcParams[\"figure.autolayout\"] = True # Same as tight_layout ???"
   ]
  },
  {
   "cell_type": "markdown",
   "id": "5cafeb63",
   "metadata": {},
   "source": [
    "# Model Parameters"
   ]
  },
  {
   "cell_type": "code",
   "execution_count": 3,
   "id": "7e4994a5",
   "metadata": {},
   "outputs": [
    {
     "name": "stdout",
     "output_type": "stream",
     "text": [
      "537.32338\n",
      "567.3526625\n"
     ]
    }
   ],
   "source": [
    "# Define surface and base elevations as Dictionaries\n",
    "\n",
    "se = {\"filename\": \"se.dat\", \"factor\": 1.0,} \n",
    "be_1 = {\"filename\": \"be_1.dat\", \"factor\": 1.0,} \n",
    "be_2 = {\"filename\": \"be_2.dat\", \"factor\": 1.0,} \n",
    "be_3 = {\"filename\": \"be_3.dat\", \"factor\": 1.0,} \n",
    "be_4 = {\"filename\": \"be_4.dat\", \"factor\": 1.0,} \n",
    "ib_1 = {\"filename\": \"ibound_1.dat\", \"factor\": 1.0,}\n",
    "ib_2 = {\"filename\": \"ibound_2.dat\", \"factor\": 1.0,}\n",
    "ib_3 = {\"filename\": \"ibound_3.dat\", \"factor\": 1.0,}\n",
    "ib_4 = {\"filename\": \"ibound_4.dat\", \"factor\": 1.0,}\n",
    "in_wl1 = {\"filename\": \"in_wl1.dat\", \"factor\": 1.0,}\n",
    "in_wl2 = {\"filename\": \"in_wl2.dat\", \"factor\": 1.0,}\n",
    "in_wl3 = {\"filename\": \"in_wl3.dat\", \"factor\": 1.0,}\n",
    "in_wl4 = {\"filename\": \"in_wl4.dat\", \"factor\": 1.0,}\n",
    "\n",
    "# Define Grid Properties\n",
    "Lx =  537323.38 #   meters\n",
    "Ly =  453882.13 #   meters\n",
    "ncol = 1000 #  Number of Columns\n",
    "nrow = 800 #  Number of Rows\n",
    "delc = Lx / ncol\n",
    "delr = Ly / nrow\n",
    "\n",
    "# Set No. of Layers, Surface and base elevations\n",
    "nlay = 4 # Number of layers\n",
    "top = se # top of top layer, meter\n",
    "botm = [be_1, be_2, be_3, be_4] # bottom of each layer, meter\n",
    "ibound = [ib_1, ib_2, ib_3, ib_4] # bottom of each layer, meter\n",
    "initial_wl = [in_wl1, in_wl2, in_wl3, in_wl4] # Initial water levels for each layer, m OD\n",
    "print(delc)\n",
    "print(delr)"
   ]
  },
  {
   "cell_type": "code",
   "execution_count": 4,
   "id": "7f245700",
   "metadata": {},
   "outputs": [],
   "source": [
    "# Set Aquifer Properties - Hydraulic conductivities and Storage values\n",
    "\n",
    "k_hor = [0.2781, 0.07515, 0.04247, 0.05022] #[0.0002781, 0.0007515, 0.0004247, 0.0005022]  # horizontal hydraulic conductivity, m/d\n",
    "k_ver = [0.001668, 0.004510, 0.002548, 0.003013] #[0.000001668, 0.000004510, 0.000002548, 0.000003013] # # vertical hydraulic conductivity, m/d\n",
    "sy = [0.15, 0.10, 0.12, 0.13] # Specific yiels, %\n",
    "ss = [0.006, 0.00001, 0.0005, 0.006] # specific storage\n",
    "# porosity = 0.3 # porosity for all the layers"
   ]
  },
  {
   "cell_type": "markdown",
   "id": "64f60f06",
   "metadata": {},
   "source": [
    "## Create Simulation"
   ]
  },
  {
   "cell_type": "code",
   "execution_count": 5,
   "id": "0c8e0c2d",
   "metadata": {},
   "outputs": [],
   "source": [
    "# Simulation\n",
    "sim = fp.mf6.MFSimulation(sim_name=modelname,\n",
    "                         version='mf6',\n",
    "                         exe_name='mf6',\n",
    "                         sim_ws=modelws,\n",
    "                         )\n",
    "#sim = flopy.mf6.MFSimulation(sim_name=name, exe_name=\"mf6\", version=\"mf6\", sim_ws=workspace)"
   ]
  },
  {
   "cell_type": "code",
   "execution_count": 6,
   "id": "6ff16ff7",
   "metadata": {},
   "outputs": [],
   "source": [
    "# Time Discretization Transient State\n",
    "tdis_rc = [\n",
    "            (31, 1, 1.0), (28, 1, 1.0), (31, 1, 1.0), (30, 1, 1.0), (31, 1, 1.0), (30, 1, 1.0),\n",
    "            (31, 1, 1.0), (31, 1, 1.0), (30, 1, 1.0), (31, 1, 1.0), (30, 1, 1.0), (31, 1, 1.0),\n",
    "            (31, 1, 1.0), (28, 1, 1.0), (31, 1, 1.0), (30, 1, 1.0), (31, 1, 1.0), (30, 1, 1.0),\n",
    "            (31, 1, 1.0), (31, 1, 1.0), (30, 1, 1.0), (31, 1, 1.0), (30, 1, 1.0), (31, 1, 1.0),\n",
    "            (31, 1, 1.0), (28, 1, 1.0), (31, 1, 1.0), (30, 1, 1.0), (31, 1, 1.0), (30, 1, 1.0),\n",
    "            (31, 1, 1.0), (31, 1, 1.0), (30, 1, 1.0), (31, 1, 1.0), (30, 1, 1.0), (31, 1, 1.0),\n",
    "            (31, 1, 1.0), (29, 1, 1.0), (31, 1, 1.0), (30, 1, 1.0), (31, 1, 1.0), (30, 1, 1.0),\n",
    "            (31, 1, 1.0), (31, 1, 1.0), (30, 1, 1.0), (31, 1, 1.0), (30, 1, 1.0), (31, 1, 1.0),\n",
    "            (31, 1, 1.0), (28, 1, 1.0), (31, 1, 1.0), (30, 1, 1.0), (31, 1, 1.0), (30, 1, 1.0),\n",
    "            (31, 1, 1.0), (31, 1, 1.0), (30, 1, 1.0), (31, 1, 1.0), (30, 1, 1.0), (31, 1, 1.0),\n",
    "            (31, 1, 1.0), (28, 1, 1.0), (31, 1, 1.0), (30, 1, 1.0), (31, 1, 1.0), (30, 1, 1.0),\n",
    "            (31, 1, 1.0), (31, 1, 1.0), (30, 1, 1.0), (31, 1, 1.0), (30, 1, 1.0), (31, 1, 1.0),\n",
    "            (31, 1, 1.0), (28, 1, 1.0), (31, 1, 1.0), (30, 1, 1.0), (31, 1, 1.0), (30, 1, 1.0),\n",
    "            (31, 1, 1.0), (31, 1, 1.0), (30, 1, 1.0), (31, 1, 1.0), (30, 1, 1.0), (31, 1, 1.0)\n",
    "            ]\n",
    "# Simulation period is: Jan 1, 2013 - Dec 31, 2019\n",
    "# period length, number of steps, timestep multiplier\n",
    "\n",
    "tdis = fp.mf6.ModflowTdis(sim,\n",
    "                         time_units='Days',\n",
    "                          nper=84,\n",
    "                         perioddata=tdis_rc,\n",
    "                         )"
   ]
  },
  {
   "cell_type": "code",
   "execution_count": 7,
   "id": "de1f130a",
   "metadata": {},
   "outputs": [],
   "source": [
    "# Groundwater Flow Model (GWF)\n",
    "# List of Parameters:\n",
    "# simulation, modelname='model', model_nam_file=None, version='mf6', exe_name='mf6', model_rel_path='.', list=None, \n",
    "# print_input=None, print_flows=None, save_flows=None, newtonoptions=None, packages=None, **kwargs\n",
    "\n",
    "gwf = fp.mf6.ModflowGwf(sim,\n",
    "                       modelname=modelname,\n",
    "                       model_nam_file=f\"{modelname}.nam\",\n",
    "                       save_flows=True,\n",
    "                       )"
   ]
  },
  {
   "cell_type": "code",
   "execution_count": 8,
   "id": "bf8eb57a",
   "metadata": {},
   "outputs": [],
   "source": [
    "# Iterative model solution (Ims)\n",
    "\n",
    "# List of Parameters:\n",
    "# simulation, loading_package=False, print_option=None, complexity=None, csv_output_filerecord=None, \n",
    "# csv_outer_output_filerecord=None, csv_inner_output_filerecord=None, no_ptcrecord=None, ats_outer_maximum_fraction=None, \n",
    "# outer_hclose=None, outer_dvclose=None, outer_rclosebnd=None, outer_maximum=None, under_relaxation=None, \n",
    "# under_relaxation_gamma=None, under_relaxation_theta=None, under_relaxation_kappa=None, \n",
    "# under_relaxation_momentum=None, backtracking_number=None, backtracking_tolerance=None, backtracking_reduction_factor=None, \n",
    "# backtracking_residual_limit=None, inner_maximum=None, inner_hclose=None, inner_dvclose=None, rcloserecord=None, \n",
    "# linear_acceleration=None, relaxation_factor=None, preconditioner_levels=None, preconditioner_drop_tolerance=None, \n",
    "# number_orthogonalizations=None, scaling_method=None, reordering_method=None, filename=None, pname=None, **kwargs\n",
    "\n",
    "ims = fp.mf6.ModflowIms(\n",
    "                        sim,\n",
    "                        pname=\"ims\",\n",
    "                        print_option=\"SUMMARY\",\n",
    "                        complexity=\"SIMPLE\",\n",
    "                        outer_dvclose=0.0001,\n",
    "                        outer_maximum=500,\n",
    "                        under_relaxation=\"NONE\",\n",
    "                        inner_maximum=100,\n",
    "                        inner_dvclose=0.0001,\n",
    "                        rcloserecord=0.001,\n",
    "                        linear_acceleration=\"CG\",\n",
    "                        scaling_method=\"NONE\",\n",
    "                        reordering_method=\"NONE\",\n",
    "                        relaxation_factor=0.97,\n",
    "                        )\n",
    "sim.register_ims_package(ims, [gwf.name])"
   ]
  },
  {
   "cell_type": "markdown",
   "id": "11ad4304",
   "metadata": {},
   "source": [
    "# Add Packages to groundwater flow model"
   ]
  },
  {
   "cell_type": "code",
   "execution_count": 21,
   "id": "d98d9e95",
   "metadata": {},
   "outputs": [
    {
     "name": "stdout",
     "output_type": "stream",
     "text": [
      "WARNING: Package with type ic already exists. Replacing existing package.\n"
     ]
    }
   ],
   "source": [
    "# initial conditions\n",
    "#initial_wl = {0: {'filename': 'initial_wl11.dat'}}\n",
    "\n",
    "#strt = {\"filename\": \"in_wl.dat\", \"factor\": 1.0,}\n",
    "\n",
    "ic = fp.mf6.ModflowGwfic(\n",
    "                        model=gwf,\n",
    "                        pname=\"ic\",\n",
    "                        strt=initial_wl,\n",
    "                        filename=\"{}.ic\".format(modelname)\n",
    "                        )"
   ]
  },
  {
   "cell_type": "code",
   "execution_count": 23,
   "id": "cd404a2b",
   "metadata": {},
   "outputs": [
    {
     "name": "stdout",
     "output_type": "stream",
     "text": [
      "WARNING: Package with name chd already exists. Replacing existing package.\n"
     ]
    }
   ],
   "source": [
    "# create the constant head boundary package\n",
    "chd_spd = {0: {\"filename\":\"chd.dat\"}}\n",
    "chd = fp.mf6.ModflowGwfchd(\n",
    "                            model=gwf,\n",
    "                            print_input=True,\n",
    "                            print_flows=True,\n",
    "                            save_flows=True,\n",
    "                            maxbound=7070,\n",
    "                            stress_period_data=chd_spd,\n",
    "                            #parent_file=gwf,\n",
    "                            filename=\"{}.chd\".format(modelname),\n",
    "                            pname='CHD'    \n",
    "                          )"
   ]
  },
  {
   "cell_type": "code",
   "execution_count": 24,
   "id": "ec9a3d2b",
   "metadata": {},
   "outputs": [
    {
     "name": "stdout",
     "output_type": "stream",
     "text": [
      "WARNING: Package with type dis already exists. Replacing existing package.\n"
     ]
    }
   ],
   "source": [
    "# Discretization Package (Gwfdis)\n",
    "\n",
    "# Parameters:\n",
    "# model, loading_package=False, length_units=None, nogrb=None, xorigin=None, \n",
    "# yorigin=None, angrot=None, nlay=1, nrow=2, ncol=2, delr=1.0, delc=1.0, top=1.0, \n",
    "# botm=0.0, idomain=None, filename=None, pname=None, **kwargs\n",
    "#dis.botm.set_record([be_1, be_2, be_3, be_4])\n",
    "dis = fp.mf6.ModflowGwfdis(\n",
    "                          model=gwf,\n",
    "                          length_units='METERS',\n",
    "                          nlay=nlay,\n",
    "                          nrow=nrow,\n",
    "                          ncol=ncol,\n",
    "                          delr=delr,\n",
    "                          delc=delc,\n",
    "                          top= top,\n",
    "                          botm=botm,\n",
    "                          idomain=ibound,\n",
    "                          filename=\"{}.dis\".format(modelname),\n",
    "                          )"
   ]
  },
  {
   "cell_type": "code",
   "execution_count": 25,
   "id": "d2101101",
   "metadata": {},
   "outputs": [
    {
     "name": "stdout",
     "output_type": "stream",
     "text": [
      "WARNING: Package with name riv already exists. Replacing existing package.\n"
     ]
    }
   ],
   "source": [
    "# River Package\n",
    "\n",
    "river_loc = {0: {\"filename\":\"mfrivers.dat\"}}\n",
    "\n",
    "riv = fp.mf6.ModflowGwfriv(\n",
    "                           model=gwf,\n",
    "                           pname=\"riv\",\n",
    "                           print_input=True,\n",
    "                           print_flows=True,\n",
    "                           save_flows=\"{}.cbc\".format(modelname),\n",
    "                           #boundnames=True,\n",
    "                           maxbound=22280,\n",
    "                           stress_period_data=river_loc,\n",
    "                           )"
   ]
  },
  {
   "cell_type": "code",
   "execution_count": 26,
   "id": "a5bfdcd0",
   "metadata": {},
   "outputs": [
    {
     "name": "stdout",
     "output_type": "stream",
     "text": [
      "WARNING: Package with name wel already exists. Replacing existing package.\n"
     ]
    }
   ],
   "source": [
    "# Definition of Well Package\n",
    "bh_loc = {0: {\"filename\": \"1bhloc.dat\"},\n",
    "          7: {\"filename\": \"2bhloc.dat\"},\n",
    "          9: {\"filename\": \"3bhloc.dat\"},\n",
    "          12: {\"filename\": \"1bhloc.dat\"},\n",
    "          18: {\"filename\": \"2bhloc.dat\"},\n",
    "          21: {\"filename\": \"3bhloc.dat\"},\n",
    "          24: {\"filename\": \"1bhloc.dat\"},\n",
    "          30: {\"filename\": \"2bhloc.dat\"},\n",
    "          33: {\"filename\": \"3bhloc.dat\"},\n",
    "          36: {\"filename\": \"1bhloc.dat\"},\n",
    "          42: {\"filename\": \"2bhloc.dat\"},\n",
    "          45: {\"filename\": \"3bhloc.dat\"},\n",
    "          48: {\"filename\": \"1bhloc.dat\"},\n",
    "          54: {\"filename\": \"2bhloc.dat\"},\n",
    "          57: {\"filename\": \"3bhloc.dat\"},\n",
    "          60: {\"filename\": \"1bhloc.dat\"},\n",
    "          66: {\"filename\": \"2bhloc.dat\"},\n",
    "          69: {\"filename\": \"3bhloc.dat\"},\n",
    "          72: {\"filename\": \"1bhloc.dat\"},\n",
    "          78: {\"filename\": \"2bhloc.dat\"},\n",
    "          81: {\"filename\": \"3bhloc.dat\"}\n",
    "         }\n",
    "\n",
    "wel = fp.mf6.ModflowGwfwel(\n",
    "                            model=gwf,\n",
    "                            pname=\"wel\",\n",
    "                            print_input=True,\n",
    "                            print_flows=True,\n",
    "                            #auxiliary=[(\"var1\", \"var2\", \"var3\")],\n",
    "                            maxbound=1509,\n",
    "                            stress_period_data=bh_loc,\n",
    "                            #boundnames=True,\n",
    "                            save_flows=True,\n",
    "                            )\n"
   ]
  },
  {
   "cell_type": "code",
   "execution_count": 27,
   "id": "fdf1bb21",
   "metadata": {},
   "outputs": [
    {
     "name": "stdout",
     "output_type": "stream",
     "text": [
      "WARNING: Package with type npf already exists. Replacing existing package.\n"
     ]
    }
   ],
   "source": [
    "# Node Property Flow Package (Gwfnpf)\n",
    "npf = fp.mf6.ModflowGwfnpf(gwf,\n",
    "                          save_specific_discharge=True,\n",
    "                          icelltype=[1, 1, 1, 1], # top layer is unconfined\n",
    "                          k=k_hor, # horizontal k value\n",
    "                          k33=k_ver, # vertical k value\n",
    "                          )"
   ]
  },
  {
   "cell_type": "code",
   "execution_count": 28,
   "id": "9c61be28",
   "metadata": {},
   "outputs": [
    {
     "name": "stdout",
     "output_type": "stream",
     "text": [
      "WARNING: Package with type sto already exists. Replacing existing package.\n"
     ]
    }
   ],
   "source": [
    "# Storage Package\n",
    "\n",
    "sto = fp.mf6.ModflowGwfsto(\n",
    "                            model=gwf,\n",
    "                            pname=\"sto\",\n",
    "                            save_flows=True,\n",
    "                            iconvert=1,\n",
    "                            ss=ss,\n",
    "                            sy=sy,\n",
    "                            steady_state={0: True},\n",
    "                            transient={1: True},\n",
    "                            )"
   ]
  },
  {
   "cell_type": "code",
   "execution_count": 29,
   "id": "0442c550",
   "metadata": {},
   "outputs": [
    {
     "name": "stdout",
     "output_type": "stream",
     "text": [
      "WARNING: Package with name rch already exists. Replacing existing package.\n"
     ]
    }
   ],
   "source": [
    "# rch\n",
    "\n",
    "#transient with time-varying recharge\n",
    "rch_dry = 0.0\n",
    "rch_wet = 0.000137\n",
    "rch_semiwet = 0.0000274\n",
    "rech = {}\n",
    "rech[0] = rch_dry #stress period 1 to 6 (Jan - June) 0.0 mm/yr\n",
    "rech[7] = rch_wet #stress period 7 to 9 (July - Sept) 50.0 mm/yr\n",
    "rech[9] = rch_semiwet #stress period 9 to 12 (Oct - Dec) 10 mm/yr\n",
    "rech[12] = rch_dry #stress period 1 to 6 (Jan - June) 0.0 mm/yr\n",
    "rech[18] = rch_wet #stress period 7 to 9 (July - Sept) 50.0 mm/yr\n",
    "rech[21] = rch_semiwet #stress period 9 to 12 (Oct - Dec) 10 mm/yr\n",
    "rech[24] = rch_dry #stress period 1 to 6 (Jan - June) 0.0 mm/yr\n",
    "rech[30] = rch_wet #stress period 7 to 9 (July - Sept) 50.0 mm/yr\n",
    "rech[33] = rch_semiwet #stress period 9 to 12 (Oct - Dec) 10 mm/yr\n",
    "rech[36] = rch_dry #stress period 1 to 6 (Jan - June) 0.0 mm/yr\n",
    "rech[42] = rch_wet #stress period 7 to 9 (July - Sept) 50.0 mm/yr\n",
    "rech[45] = rch_semiwet #stress period 9 to 12 (Oct - Dec) 10 mm/yr\n",
    "rech[48] = rch_dry #stress period 1 to 6 (Jan - June) 0.0 mm/yr\n",
    "rech[54] = rch_wet #stress period 7 to 9 (July - Sept) 50.0 mm/yr\n",
    "rech[57] = rch_semiwet #stress period 9 to 12 (Oct - Dec) 10 mm/yr\n",
    "rech[60] = rch_dry #stress period 1 to 6 (Jan - June) 0.0 mm/yr\n",
    "rech[66] = rch_wet #stress period 7 to 9 (July - Sept) 50.0 mm/yr\n",
    "rech[69] = rch_semiwet #stress period 9 to 12 (Oct - Dec) 10 mm/yr\n",
    "rech[72] = rch_dry #stress period 1 to 6 (Jan - June) 0.0 mm/yr\n",
    "rech[78] = rch_wet #stress period 7 to 9 (July - Sept) 50.0 mm/yr\n",
    "rech[81] = rch_semiwet #stress period 9 to 12 (Oct - Dec) 10 mm/yr\n",
    "\n",
    "#rch = flopy.modflow.ModflowRch(m, nrchop=3, rech=rech)\n",
    "#recharge = {0: {'filename': 'recharge.dat'}} #, 'data': np.ones((nrow, ncol)) * 0.005}}\n",
    "\n",
    "rch = fp.mf6.ModflowGwfrcha(\n",
    "                            model=gwf, \n",
    "                            nrchop=3,\n",
    "                            recharge=rech,\n",
    "                            filename=\"{}.rch\".format(modelname),\n",
    "                            pname=\"rch\",\n",
    "                            #fixed_cell=True,\n",
    "                            #auxiliary=\"MULTIPLIER\",\n",
    "                            #auxmultname=\"MULTIPLIER\",\n",
    "                            print_input=True,\n",
    "                            print_flows=True,\n",
    "                            save_flows=True,\n",
    "                            maxbound=20,\n",
    "                            stress_period_data=rech,\n",
    "                            )"
   ]
  },
  {
   "cell_type": "code",
   "execution_count": 30,
   "id": "c8caac47",
   "metadata": {},
   "outputs": [
    {
     "name": "stdout",
     "output_type": "stream",
     "text": [
      "WARNING: Package with name evt already exists. Replacing existing package.\n"
     ]
    }
   ],
   "source": [
    "# Evapotranspiration\n",
    "# Parametr Lists\n",
    "# model, loading_package=False, fixed_cell=None, auxiliary=None, auxmultname=None, boundnames=None, \n",
    "# print_input=None, print_flows=None, save_flows=None, timeseries=None, observations=None, \n",
    "# surf_rate_specified=None, maxbound=None, nseg=None, stress_period_data=None, filename=None, pname=None, **kwargs\n",
    "\n",
    "evtr = {0: {\"filename\": \"mevt.dat\"}}\n",
    "evt = fp.mf6.ModflowGwfevt(\n",
    "                            gwf,\n",
    "                            pname=\"evt\",\n",
    "                            filename=\"{}.evt\".format(modelname),\n",
    "                            print_input=True,\n",
    "                            print_flows=True,\n",
    "                            save_flows=True,\n",
    "                            maxbound=9900,\n",
    "                            nseg=1,\n",
    "                            stress_period_data=evtr, \n",
    "                            )"
   ]
  },
  {
   "cell_type": "code",
   "execution_count": 31,
   "id": "d7336dc7",
   "metadata": {
    "scrolled": false
   },
   "outputs": [
    {
     "name": "stdout",
     "output_type": "stream",
     "text": [
      "WARNING: Package with type oc already exists. Replacing existing package.\n"
     ]
    }
   ],
   "source": [
    "# Output Control (Gwfoc)\n",
    "\n",
    "oc = fp.mf6.ModflowGwfoc(\n",
    "                            model=gwf,\n",
    "                            pname=\"oc\",\n",
    "                            filename=\"{}.oc\".format(modelname),\n",
    "                            budget_filerecord=\"{}.cbc\".format(modelname),\n",
    "                            head_filerecord=\"{}.hds\".format(modelname),\n",
    "                            headprintrecord=[(\"COLUMNS\", 10, \"WIDTH\", 15, \"DIGITS\", 6, \"GENERAL\")],\n",
    "                            saverecord=[(\"HEAD\", \"ALL\"), (\"BUDGET\", \"ALL\")],\n",
    "                            printrecord=[(\"HEAD\", \"FIRST\"), (\"HEAD\", \"LAST\"), (\"BUDGET\", \"LAST\")],\n",
    "                            )"
   ]
  },
  {
   "cell_type": "markdown",
   "id": "45c13410",
   "metadata": {},
   "source": [
    "# Check input"
   ]
  },
  {
   "cell_type": "code",
   "execution_count": 32,
   "id": "fea1fc55",
   "metadata": {},
   "outputs": [
    {
     "data": {
      "text/plain": [
       "<matplotlib.collections.QuadMesh at 0x252ef26cb50>"
      ]
     },
     "execution_count": 32,
     "metadata": {},
     "output_type": "execute_result"
    },
    {
     "data": {
      "image/png": "[encoded data removed]",
      "text/plain": [
       "<Figure size 500x500 with 1 Axes>"
      ]
     },
     "metadata": {},
     "output_type": "display_data"
    }
   ],
   "source": [
    "pmv = fp.plot.PlotMapView(model=gwf)\n",
    "pmv.plot_bc('CHD', color='r')\n",
    "pmv.plot_bc('RIV', color='b')\n",
    "pmv.plot_bc('WEL', plotAll=True, color='r', lw=1)\n",
    "#pmv.plot_grid(color='silver', lw=1);"
   ]
  },
  {
   "cell_type": "code",
   "execution_count": 33,
   "id": "4907661c",
   "metadata": {},
   "outputs": [
    {
     "data": {
      "image/png": "[encoded data removed]",
      "text/plain": [
       "<Figure size 500x300 with 1 Axes>"
      ]
     },
     "metadata": {},
     "output_type": "display_data"
    }
   ],
   "source": [
    "plt.figure(figsize=(5, 3))\n",
    "pxs = fp.plot.PlotCrossSection(model=gwf, line={\"Row\": 500})\n",
    "pxs.plot_bc('CHD')\n",
    "pxs.plot_bc('RIV')\n",
    "pxs.plot_bc('WEL')\n",
    "pxs.plot_grid(colors='blue', lw=10);"
   ]
  },
  {
   "cell_type": "markdown",
   "id": "ee669e22",
   "metadata": {},
   "source": [
    "## Create the MODFLOW 6 Input Files and Run the Model\n",
    "\n",
    "#### Once all the flopy objects are created, it is very easy to create all of the input files and run the model."
   ]
  },
  {
   "cell_type": "markdown",
   "id": "d1724ca2",
   "metadata": {},
   "source": [
    "# Solve model"
   ]
  },
  {
   "cell_type": "code",
   "execution_count": 34,
   "id": "281eda0d",
   "metadata": {},
   "outputs": [
    {
     "name": "stdout",
     "output_type": "stream",
     "text": [
      "writing simulation...\n",
      "  writing simulation name file...\n",
      "  writing simulation tdis package...\n",
      "  writing ims package ims...\n",
      "  writing model sokotoproject5...\n",
      "    writing model name file...\n",
      "    writing package ic...\n",
      "    writing package chd...\n",
      "    writing package dis...\n",
      "    writing package riv...\n",
      "    writing package wel...\n",
      "    writing package npf...\n",
      "    writing package sto...\n",
      "    writing package rch...\n",
      "    writing package evt...\n",
      "    writing package oc...\n"
     ]
    }
   ],
   "source": [
    "sim.write_simulation();"
   ]
  },
  {
   "cell_type": "code",
   "execution_count": 35,
   "id": "451ccf05",
   "metadata": {},
   "outputs": [
    {
     "name": "stdout",
     "output_type": "stream",
     "text": [
      "['1bhloc.dat', '2bhloc.dat', '3bhloc.dat', 'be_1.dat', 'be_2.dat', 'be_3.dat', 'be_4.dat', 'b_dry1.dat', 'chd.dat', 'f_sim_wl.dat', 'ibound_1.dat', 'ibound_2.dat', 'ibound_3.dat', 'ibound_4.dat', 'ib_1.dat', 'ib_2.dat', 'ib_3.dat', 'ib_4.dat', 'in_wl1.dat', 'in_wl2.dat', 'in_wl3.dat', 'in_wl4.dat', 'lc_1.dat', 'mevt.dat', 'mfrivers.dat', 'mfsim.lst', 'mfsim.nam', 'Old', 'se.dat', 'sim_wl.dat', 'sokotoproject5.cbc', 'sokotoproject5.chd', 'sokotoproject5.dis', 'sokotoproject5.dis.grb', 'sokotoproject5.evt', 'sokotoproject5.hds', 'sokotoproject5.ic', 'sokotoproject5.ims', 'sokotoproject5.lst', 'sokotoproject5.nam', 'sokotoproject5.npf', 'sokotoproject5.oc', 'sokotoproject5.rch', 'sokotoproject5.riv', 'sokotoproject5.sto', 'sokotoproject5.tdis', 'sokotoproject5.wel', 'xaa.dat', 'xab', 'xac', 'xad.dat', 'xae', 'xaf', 'xag.dat', 'xah', 'xai', 'xaj.dat', 'xak', 'xal', 'xam', 'xan.dat', 'xao', 'xap', 'xaq.dat', 'xar', 'xas', 'xat.dat', 'xau', 'xav', 'xaw.dat', 'xax', 'xay', 'xaz', 'xba', 'xbb.dat']\n"
     ]
    }
   ],
   "source": [
    "# Print a list of the files that were created in workspace\n",
    "print(os.listdir(modelws))"
   ]
  },
  {
   "cell_type": "markdown",
   "id": "a30d6986",
   "metadata": {},
   "source": [
    "## Run the Simulation\n",
    "\n",
    "#### We can also run the simulation from the notebook, but only if the MODFLOW 6 executable is available. \n",
    "#### The executable can be made available by putting the executable in a folder that is listed in the system path variable.\n",
    "#### Another option is to just put a copy of the executable in the simulation folder, though this should generally be avoided. \n",
    "#### A final option is to provide a full path to the executable when the simulation is constructed. \n",
    "#### This would be done by specifying exe_name with the full path."
   ]
  },
  {
   "cell_type": "code",
   "execution_count": 36,
   "id": "ce018d41",
   "metadata": {
    "scrolled": false
   },
   "outputs": [
    {
     "name": "stdout",
     "output_type": "stream",
     "text": [
      "FloPy is using the following executable to run the model: C:\\Users\\olayi\\AppData\\Local\\flopy\\bin\\mf6.EXE\n",
      "                                   MODFLOW 6\n",
      "                U.S. GEOLOGICAL SURVEY MODULAR HYDROLOGIC MODEL\n",
      "                        VERSION 6.4.1 Release 12/09/2022\n",
      "\n",
      "   MODFLOW 6 compiled Dec 10 2022 05:57:01 with Intel(R) Fortran Intel(R) 64\n",
      "   Compiler Classic for applications running on Intel(R) 64, Version 2021.7.0\n",
      "                             Build 20220726_000000\n",
      "\n",
      "This software has been approved for release by the U.S. Geological \n",
      "Survey (USGS). Although the software has been subjected to rigorous \n",
      "review, the USGS reserves the right to update the software as needed \n",
      "pursuant to further analysis and review. No warranty, expressed or \n",
      "implied, is made by the USGS or the U.S. Government as to the \n",
      "functionality of the software and related material nor shall the \n",
      "fact of release constitute any such warranty. Furthermore, the \n",
      "software is released on condition that neither the USGS nor the U.S. \n",
      "Government shall be held liable for any damages resulting from its \n",
      "authorized or unauthorized use. Also refer to the USGS Water \n",
      "Resources Software User Rights Notice for complete use, copyright, \n",
      "and distribution information.\n",
      "\n",
      " \n",
      " Run start date and time (yyyy/mm/dd hh:mm:ss): 2024/03/07 15:37:13\n",
      " \n",
      " Writing simulation list file: mfsim.lst\n",
      " Using Simulation name file: mfsim.nam\n",
      " \n",
      "    Solving:  Stress period:     1    Time step:     1\n",
      "    Solving:  Stress period:     2    Time step:     1\n",
      "    Solving:  Stress period:     3    Time step:     1\n",
      "    Solving:  Stress period:     4    Time step:     1\n",
      "    Solving:  Stress period:     5    Time step:     1\n",
      "    Solving:  Stress period:     6    Time step:     1\n",
      "    Solving:  Stress period:     7    Time step:     1\n",
      "    Solving:  Stress period:     8    Time step:     1\n",
      "    Solving:  Stress period:     9    Time step:     1\n",
      "    Solving:  Stress period:    10    Time step:     1\n",
      "    Solving:  Stress period:    11    Time step:     1\n",
      "    Solving:  Stress period:    12    Time step:     1\n",
      "    Solving:  Stress period:    13    Time step:     1\n",
      "    Solving:  Stress period:    14    Time step:     1\n",
      "    Solving:  Stress period:    15    Time step:     1\n",
      "    Solving:  Stress period:    16    Time step:     1\n",
      "    Solving:  Stress period:    17    Time step:     1\n",
      "    Solving:  Stress period:    18    Time step:     1\n",
      "    Solving:  Stress period:    19    Time step:     1\n",
      "    Solving:  Stress period:    20    Time step:     1\n",
      "    Solving:  Stress period:    21    Time step:     1\n",
      "    Solving:  Stress period:    22    Time step:     1\n",
      "    Solving:  Stress period:    23    Time step:     1\n",
      "    Solving:  Stress period:    24    Time step:     1\n",
      "    Solving:  Stress period:    25    Time step:     1\n",
      "    Solving:  Stress period:    26    Time step:     1\n",
      "    Solving:  Stress period:    27    Time step:     1\n",
      "    Solving:  Stress period:    28    Time step:     1\n",
      "    Solving:  Stress period:    29    Time step:     1\n",
      "    Solving:  Stress period:    30    Time step:     1\n",
      "    Solving:  Stress period:    31    Time step:     1\n",
      "    Solving:  Stress period:    32    Time step:     1\n",
      "    Solving:  Stress period:    33    Time step:     1\n",
      "    Solving:  Stress period:    34    Time step:     1\n",
      "    Solving:  Stress period:    35    Time step:     1\n",
      "    Solving:  Stress period:    36    Time step:     1\n",
      "    Solving:  Stress period:    37    Time step:     1\n",
      "    Solving:  Stress period:    38    Time step:     1\n",
      "    Solving:  Stress period:    39    Time step:     1\n",
      "    Solving:  Stress period:    40    Time step:     1\n",
      "    Solving:  Stress period:    41    Time step:     1\n",
      "    Solving:  Stress period:    42    Time step:     1\n",
      "    Solving:  Stress period:    43    Time step:     1\n",
      "    Solving:  Stress period:    44    Time step:     1\n",
      "    Solving:  Stress period:    45    Time step:     1\n",
      "    Solving:  Stress period:    46    Time step:     1\n",
      "    Solving:  Stress period:    47    Time step:     1\n",
      "    Solving:  Stress period:    48    Time step:     1\n",
      "    Solving:  Stress period:    49    Time step:     1\n",
      "    Solving:  Stress period:    50    Time step:     1\n",
      "    Solving:  Stress period:    51    Time step:     1\n",
      "    Solving:  Stress period:    52    Time step:     1\n",
      "    Solving:  Stress period:    53    Time step:     1\n",
      "    Solving:  Stress period:    54    Time step:     1\n",
      "    Solving:  Stress period:    55    Time step:     1\n",
      "    Solving:  Stress period:    56    Time step:     1\n",
      "    Solving:  Stress period:    57    Time step:     1\n",
      "    Solving:  Stress period:    58    Time step:     1\n",
      "    Solving:  Stress period:    59    Time step:     1\n",
      "    Solving:  Stress period:    60    Time step:     1\n",
      "    Solving:  Stress period:    61    Time step:     1\n",
      "    Solving:  Stress period:    62    Time step:     1\n",
      "    Solving:  Stress period:    63    Time step:     1\n",
      "    Solving:  Stress period:    64    Time step:     1\n",
      "    Solving:  Stress period:    65    Time step:     1\n",
      "    Solving:  Stress period:    66    Time step:     1\n",
      "    Solving:  Stress period:    67    Time step:     1\n",
      "    Solving:  Stress period:    68    Time step:     1\n",
      "    Solving:  Stress period:    69    Time step:     1\n",
      "    Solving:  Stress period:    70    Time step:     1\n",
      "    Solving:  Stress period:    71    Time step:     1\n",
      "    Solving:  Stress period:    72    Time step:     1\n",
      "    Solving:  Stress period:    73    Time step:     1\n",
      "    Solving:  Stress period:    74    Time step:     1\n",
      "    Solving:  Stress period:    75    Time step:     1\n",
      "    Solving:  Stress period:    76    Time step:     1\n",
      "    Solving:  Stress period:    77    Time step:     1\n",
      "    Solving:  Stress period:    78    Time step:     1\n",
      "    Solving:  Stress period:    79    Time step:     1\n",
      "    Solving:  Stress period:    80    Time step:     1\n",
      "    Solving:  Stress period:    81    Time step:     1\n",
      "    Solving:  Stress period:    82    Time step:     1\n",
      "    Solving:  Stress period:    83    Time step:     1\n",
      "    Solving:  Stress period:    84    Time step:     1\n",
      " \n",
      " Run end date and time (yyyy/mm/dd hh:mm:ss): 2024/03/07 16:43:41\n",
      " Elapsed run time:  1 Hours,  6 Minutes, 28 Seconds\n",
      " \n",
      " Normal termination of simulation.\n"
     ]
    }
   ],
   "source": [
    "# Run the simulation\n",
    "#success, buff = sim.run_simulation(silent=True, report=True)\n",
    "#if success:\n",
    "#    for line in buff:\n",
    "#        print(line)\n",
    "#else:\n",
    "#    raise ValueError(\"Failed to run.\")\n",
    "\n",
    "sim.run_simulation();"
   ]
  },
  {
   "cell_type": "markdown",
   "id": "37117589",
   "metadata": {},
   "source": [
    "## Post-Process Head Results\n",
    "\n",
    "First, we get the simulated head data using the .output.head() method and the get_data function, by specifying, in this case, the step number and period number for which we want to retrieve data. A three-dimensional array is returned of size nlay, nrow, ncol. FloPy plotting methods are used to make contours of the head in a specific layer (in this case, layer 1). FloPy plotting methods are also used to plot the model grid and the location of GHB cells in the model domain."
   ]
  },
  {
   "cell_type": "code",
   "execution_count": 39,
   "id": "8e4d0546",
   "metadata": {},
   "outputs": [],
   "source": [
    "# Retrieve the head data using the .output() method\n",
    "h = gwf.output.head().get_data(kstpkper=(0, 5))"
   ]
  },
  {
   "cell_type": "code",
   "execution_count": 41,
   "id": "492bcfd0",
   "metadata": {},
   "outputs": [
    {
     "data": {
      "image/png": "[encoded data removed]",
      "text/plain": [
       "<Figure size 700x500 with 1 Axes>"
      ]
     },
     "metadata": {},
     "output_type": "display_data"
    }
   ],
   "source": [
    "fig = plt.figure(figsize=(7, 5))\n",
    "ax = fig.add_subplot(1, 1, 1, aspect=\"equal\")\n",
    "\n",
    "# Next we create an instance of the ModelMap class\n",
    "modelmap = fp.plot.PlotMapView(model=gwf, ax=ax)\n",
    "\n",
    "chd_quadmesh = modelmap.plot_bc(name=\"chd\", plotAll=True)\n",
    "wel_quadmesh = modelmap.plot_bc(name=\"wel\", plotAll=True)\n",
    "riv_quadmesh = modelmap.plot_bc(name=\"riv\", plotAll=True)\n",
    "#linecollection = modelmap.plot_grid()\n",
    "contours = modelmap.contour_array(h[3])"
   ]
  },
  {
   "cell_type": "markdown",
   "id": "35016d8e",
   "metadata": {},
   "source": [
    "## Post-Process Flows\n",
    "\n",
    "MODFLOW 6 writes a binary grid file, which contains information about the model grid. MODFLOW 6 also writes a binary budget file, which contains flow information. Both of these files can be read using FloPy methods. The MfGrdFile class in FloPy can be used to read the binary grid file, which contains the cell connectivity (ia and ja). The output.budget() method in FloPy can be used to read the binary budget file written by MODFLOW 6."
   ]
  },
  {
   "cell_type": "code",
   "execution_count": 42,
   "id": "dd83785b",
   "metadata": {},
   "outputs": [],
   "source": [
    "fname = os.path.join(modelws, \"{}.dis.grb\".format(modelname))\n",
    "bgf = fp.mf6.utils.MfGrdFile(fname)\n",
    "ia, ja = bgf.ia, bgf.ja"
   ]
  },
  {
   "cell_type": "code",
   "execution_count": 27,
   "id": "a63ef6f5",
   "metadata": {},
   "outputs": [],
   "source": [
    "flowja = gwf.output.budget().get_data(text=\"FLOW-JA-FACE\")[0].squeeze()"
   ]
  },
  {
   "cell_type": "code",
   "execution_count": 28,
   "id": "431efddb",
   "metadata": {},
   "outputs": [
    {
     "name": "stdout",
     "output_type": "stream",
     "text": [
      "Printing flows for cell 1611002\n"
     ]
    }
   ],
   "source": [
    "# By having the ia and ja arrays and the flow-ja-face we can look at\n",
    "# the flows for any cell and process them in the follow manner. Note\n",
    "# layer, row, column locations are zero-based.\n",
    "k = 2\n",
    "i = 11\n",
    "j = 2\n",
    "cell_nodes = gwf.modelgrid.get_node([(k, i, j)])\n",
    "\n",
    "for celln in cell_nodes:\n",
    "    print(\"Printing flows for cell {}\".format(celln))\n",
    "    for ipos in range(ia[celln] + 1, ia[celln + 1]):\n",
    "        cellm = ja[ipos]\n",
    "        print(\n",
    "            \"Cell {} flow with cell {} is {}\".format(\n",
    "                celln, cellm, flowja[ipos]\n",
    "            )\n",
    "        )"
   ]
  },
  {
   "cell_type": "markdown",
   "id": "d99ed49d",
   "metadata": {},
   "source": [
    "## Post-Process Head Observations\n",
    "\n",
    "MODFLOW 6 observations can be read using the output.obs() method in FloPy."
   ]
  },
  {
   "cell_type": "raw",
   "id": "359781ed",
   "metadata": {},
   "source": [
    "csv = gwf.head_obs.output.obs(f=\"head-hydrographs.csv\").get_data()\n",
    "\n",
    "for name in csv.dtype.names[1:]:\n",
    "    plt.plot(csv[\"totim\"], csv[name], label=name)\n",
    "plt.legend();"
   ]
  },
  {
   "cell_type": "markdown",
   "id": "7371aed0",
   "metadata": {},
   "source": [
    "# Read and Visualise Results"
   ]
  },
  {
   "cell_type": "code",
   "execution_count": 38,
   "id": "c671afe2",
   "metadata": {
    "scrolled": true
   },
   "outputs": [
    {
     "name": "stdout",
     "output_type": "stream",
     "text": [
      "minimum head in model:  26.134018591264876\n",
      "maximum head in model:  1e+30\n"
     ]
    }
   ],
   "source": [
    "fname = os.path.join(modelws, f'{modelname}.hds') # File with extension hds\n",
    "hdobj = fp.utils.HeadFile(fname)\n",
    "head = hdobj.get_data(mflay=3) # get data of layer with index 2\n",
    "print('minimum head in model: ', head.min())\n",
    "print('maximum head in model: ', head.max())"
   ]
  },
  {
   "cell_type": "markdown",
   "id": "b68d8716",
   "metadata": {},
   "source": [
    "# Contour Plot"
   ]
  },
  {
   "cell_type": "code",
   "execution_count": 44,
   "id": "d2cb45cf",
   "metadata": {},
   "outputs": [
    {
     "data": {
      "image/png": "[encoded data removed]",
      "text/plain": [
       "<Figure size 500x500 with 2 Axes>"
      ]
     },
     "metadata": {},
     "output_type": "display_data"
    }
   ],
   "source": [
    "pmv = fp.plot.PlotMapView(model=gwf)\n",
    "qm = pmv.plot_array(head) # Color plots of head\n",
    "plt.colorbar(qm, shrink=0.7, label='head (m)')\n",
    "cs = pmv.contour_array(head, levels=range(-250, 30), linewidths=1, colors='b') # Colors of head plots\n",
    "plt.clabel(cs, fmt='%1.0f')\n",
    "plt.title('heads in layer 2');"
   ]
  },
  {
   "cell_type": "markdown",
   "id": "39e1796a",
   "metadata": {},
   "source": [
    "# Water Balance"
   ]
  },
  {
   "cell_type": "code",
   "execution_count": 45,
   "id": "1cbcbfce",
   "metadata": {},
   "outputs": [
    {
     "name": "stdout",
     "output_type": "stream",
     "text": [
      "In: 0.0 m^3/d\n",
      "Out: -278042.1 m^3/d\n",
      "Relative error -inf %\n"
     ]
    }
   ],
   "source": [
    "fname = os.path.join(modelws, f\"{modelname}.cbc\") # File with extension .cbc\n",
    "cbb = fp.utils.CellBudgetFile(fname)\n",
    "\n",
    "Qwell = cbb.get_data(text='WEL')[0] # default name or name package (pname)\n",
    "Qrch = cbb.get_data(text='RCH')[0]\n",
    "Qevt = cbb.get_data(text='EVT')[0]\n",
    "#Qchd = cbb.get_data(text='CHD')[0]\n",
    "Vin = Qrch['q'].sum() # total volume in\n",
    "Vout = Qwell['q'].sum() + Qevt['q'].sum()\n",
    "print(f'In: {Vin:.1f} m^3/d')\n",
    "print(f'Out: {Vout:.1f} m^3/d')\n",
    "print(f'Relative error {100*(Vin + Vout) / Vin:.2f} %')"
   ]
  },
  {
   "cell_type": "markdown",
   "id": "d365fd0d",
   "metadata": {},
   "source": [
    "# Plot head vs time at wells"
   ]
  },
  {
   "cell_type": "code",
   "execution_count": null,
   "id": "c37cda02",
   "metadata": {},
   "outputs": [],
   "source": [
    "fname = os.path.join(modelws, f'{modelname}.hds') #file with extension .hds\n",
    "hdobj = fp.utils.HeadFile(fname)\n",
    "clist = plt.rcParams['axes.prop_cycle'].by_key()['color']\n",
    "fig, ax = plt.subplots()\n",
    "for i, rc in enumerate(well_row_col):\n",
    "    r = rc[0]\n",
    "    c = rc[1]\n",
    "    hts = hdobj.get_ts([[0, r, c]])\n",
    "    plt.plot(hts[:, 0], hts[:, 1], '--', color=clist[i], label=f\"Well {i}, layer 0\")\n",
    "    hts = hdobj.get_ts([[2, r, c]])\n",
    "    plt.plot(hts[:, 0], hts[:, 1], '--', color=clist[i], label=f\"Well {i}, layer 2\")\n",
    "ax.set_xlabel('Time (days)')\n",
    "ax.set_ylabel('Head (m)')\n",
    "ax.legend()\n",
    "# ax.set_xscale('Log')\n",
    "ax.grid(ls=':');"
   ]
  },
  {
   "cell_type": "markdown",
   "id": "6356a2af",
   "metadata": {},
   "source": [
    "# Read flow and Quiver Plot"
   ]
  },
  {
   "cell_type": "code",
   "execution_count": null,
   "id": "c2b8853c",
   "metadata": {},
   "outputs": [],
   "source": [
    "spdis = cbb.get_data(text='DATA-SPDIS')[0] # Returns rec array\n",
    "qx = spdis[\"qx\"].reshape(nlay, nrow, ncol)\n",
    "qy = spdis[\"qy\"].reshape(nlay, nrow, ncol)"
   ]
  },
  {
   "cell_type": "code",
   "execution_count": null,
   "id": "346aa7c6",
   "metadata": {},
   "outputs": [],
   "source": [
    "for l in range(nlay):\n",
    "    ax = plt.subplot(2, 2, l + 1)\n",
    "    pmv = fp.plot.PlotMapView(model=gwf, layer=l, ax=ax)\n",
    "    quiver = pmv.plot_vector(qx,\n",
    "                            qy,\n",
    "                            scale=1,\n",
    "                            istep=4,\n",
    "                            jstep=4,\n",
    "                            color=\"k\",\n",
    "                            )\n",
    "    plt.xlim(Lx / 2, Lx)\n",
    "    plt.title(f\"Layer {l}\")\n",
    "plt.tight_layout()"
   ]
  },
  {
   "cell_type": "markdown",
   "id": "f387a24e",
   "metadata": {},
   "source": [
    "# Pathlines with Modpath"
   ]
  },
  {
   "cell_type": "code",
   "execution_count": null,
   "id": "bc3d56e8",
   "metadata": {},
   "outputs": [],
   "source": [
    "def PointsOnCircle(r=10, N=12):\n",
    "    rv = [2 * np.pi / N * n_i for n_i in range(0, N)]\n",
    "    return np.vstack((r * np.cos(rv), r * np.sin(rv))). T\n",
    "pr = PointsOnCircle()\n",
    "\n",
    "# Particles\n",
    "localx = []\n",
    "localy = []\n",
    "localz = []\n",
    "partlocs = []\n",
    "for rc in well_row_col:\n",
    "    r = rc[0]\n",
    "    c = rc[1]\n",
    "    for pr_i in pr:\n",
    "        lx = (delc / 2 + pr_i[0]) / delc\n",
    "        ly = (delr / 2 + pr_i[1]) / delr\n",
    "        lz = 0.5\n",
    "        partlocs.append((2, r, c))\n",
    "        localx.append(lx)\n",
    "        localy.append(ly)\n",
    "        localz.append(lz)\n",
    "\n",
    "particledata = fp.modpath.ParticleData(partlocs,\n",
    "                                      structured=True,\n",
    "                                      localx=localx,\n",
    "                                      localy=localy,\n",
    "                                      localz=localz)\n",
    "pg = fp.modpath.ParticleGroup(particledata=particledata)\n",
    "\n",
    "mp = fp.modpath.Modpath7(modelname=f\"{modelname}_abs_wells_bw\",\n",
    "                        model_ws=modelws,\n",
    "                        flowmodel=gwf,\n",
    "                        exe_name='mpath7',\n",
    "                        )\n",
    "mpbas = fp.modpath.Modpath7Bas(mp, porosity=0.3)\n",
    "mpsim = fp.modpath.Modpath7Sim(mp,\n",
    "                              particlegroups=pg,\n",
    "                              weaksourceoption='pass_through',\n",
    "                              stoptimeoption='specified',\n",
    "                              stoptime=100 * 365.,\n",
    "                              trackingdirection='backward',\n",
    "                              )\n",
    "mp.write_input()\n",
    "mp.run_model();"
   ]
  },
  {
   "cell_type": "markdown",
   "id": "5f6993a2",
   "metadata": {},
   "source": [
    "# Read and Plot Pathlines"
   ]
  },
  {
   "cell_type": "code",
   "execution_count": null,
   "id": "172fbf62",
   "metadata": {},
   "outputs": [],
   "source": [
    "pmv = fp.plot.PlotMapView(model=gwf)\n",
    "pmv.contour_array(head, levels=range(50, 70), linewidths=1, colors='C0')\n",
    "fname = os.path.join(modelws, f\"{modelname}_abs_wells_bw.mppth\")\n",
    "p = fp.utils.PathlineFile(fname)\n",
    "for i in range(p.get_maxid() + 1): \n",
    "    pi = p.get_data(partid=i)\n",
    "    plt.plot(pi['x'], pi['y'], 'C1', lw=1)\n"
   ]
  },
  {
   "cell_type": "code",
   "execution_count": null,
   "id": "6f0f11e6",
   "metadata": {},
   "outputs": [],
   "source": [
    "# alternative that shows different color for different layer\n",
    "clist = ['C' + str(i) for i in range(nlay)]\n",
    "pmv = fp.plot.PlotMapView(model=gwf)\n",
    "pmv.contour_array(head, levels=range(50, 70), linewidths=1, colors='C0')\n",
    "for i in range(p.get_maxid() + 1):\n",
    "    pi = p.get_data(partid=i)\n",
    "    for k in np.unique(pi['k']):\n",
    "        idx = pi['k'] == k\n",
    "        x = pi['x'][idx]\n",
    "        y = pi['y'][idx]\n",
    "        plt.plot(x, y, color=clist[k])"
   ]
  },
  {
   "cell_type": "code",
   "execution_count": null,
   "id": "9b67aa3e",
   "metadata": {},
   "outputs": [],
   "source": [
    "# Next line does not work in Jupyter Lab,\n",
    "# run in Jupyter Notebook instead\n",
    "# %matplotlib notebook\n",
    "from mpl_toolkits.mplot3d import Axes3D\n",
    "fig = plt.figure()\n",
    "ax = fig.add_subplot(111, projection='3d')\n",
    "for i in range(0, p.get_maxid(), 2):\n",
    "    pi = p.get_data(partid=i)\n",
    "    c = int(i / 12)\n",
    "    ax.plot(pi['x'], pi['y'], pi['z'], f'C{c}', lw=1)\n",
    "    ax.set_xlim(0, Lx);"
   ]
  },
  {
   "cell_type": "code",
   "execution_count": 6,
   "id": "6b2f1632",
   "metadata": {},
   "outputs": [],
   "source": [
    "import numpy as np\n",
    "\n",
    "# Load the two input arrays from external files\n",
    "array1 = np.loadtxt('se_1.dat', dtype=np.float32)\n",
    "array2 = np.loadtxt('initial_wl_1.dat', dtype=np.float32)\n",
    "array3 = np.loadtxt('w_req.dat', dtype=np.float32)\n",
    "\n",
    "# Subtract the arrays\n",
    "w_available = (array1 - array2) - array3\n",
    "\n",
    "# Save the result to an external text data file\n",
    "np.savetxt('w_available.dat', w_available, fmt='%1.3e')"
   ]
  },
  {
   "cell_type": "code",
   "execution_count": null,
   "id": "1421252e",
   "metadata": {},
   "outputs": [],
   "source": []
  }
 ],
 "metadata": {
  "kernelspec": {
   "display_name": "Python 3 (ipykernel)",
   "language": "python",
   "name": "python3"
  },
  "language_info": {
   "codemirror_mode": {
    "name": "ipython",
    "version": 3
   },
   "file_extension": ".py",
   "mimetype": "text/x-python",
   "name": "python",
   "nbconvert_exporter": "python",
   "pygments_lexer": "ipython3",
   "version": "3.11.2"
  },
  "varInspector": {
   "cols": {
    "lenName": 16,
    "lenType": 16,
    "lenVar": 40
   },
   "kernels_config": {
    "python": {
     "delete_cmd_postfix": "",
     "delete_cmd_prefix": "del ",
     "library": "var_list.py",
     "varRefreshCmd": "print(var_dic_list())"
    },
    "r": {
     "delete_cmd_postfix": ") ",
     "delete_cmd_prefix": "rm(",
     "library": "var_list.r",
     "varRefreshCmd": "cat(var_dic_list()) "
    }
   },
   "types_to_exclude": [
    "module",
    "function",
    "builtin_function_or_method",
    "instance",
    "_Feature"
   ],
   "window_display": false
  }
 },
 "nbformat": 4,
 "nbformat_minor": 5
}
