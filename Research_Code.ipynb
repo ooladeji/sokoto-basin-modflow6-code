{
 "cells": [
  {
   "cell_type": "code",
   "execution_count": 1,
   "id": "e42f0b84",
   "metadata": {},
   "outputs": [],
   "source": [
    "# Import the necessary Python Libraries\n",
    "import os\n",
    "import numpy as np\n",
    "import matplotlib as mpl\n",
    "import matplotlib.pyplot as plt\n",
    "import flopy as fp"
   ]
  },
  {
   "cell_type": "code",
   "execution_count": 2,
   "id": "be7ee9d7",
   "metadata": {},
   "outputs": [],
   "source": [
    "modelname = 'sokotoproject5'\n",
    "modelws = './sokotoproject5'\n",
    "path = os.getcwd() # path to current working directory\n",
    "plt.rcParams['figure.figsize'] = (5, 5) #default figure size\n",
    "plt.rcParams[\"figure.autolayout\"] = True # Same as tight_layout ???"
   ]
  },
  {
   "cell_type": "markdown",
   "id": "5cafeb63",
   "metadata": {},
   "source": [
    "# Model Parameters"
   ]
  },
  {
   "cell_type": "code",
   "execution_count": 3,
   "id": "7e4994a5",
   "metadata": {},
   "outputs": [
    {
     "name": "stdout",
     "output_type": "stream",
     "text": [
      "537.32338\n",
      "567.3526625\n"
     ]
    }
   ],
   "source": [
    "# Define surface and base elevations as Dictionaries\n",
    "\n",
    "se = {\"filename\": \"se.dat\", \"factor\": 1.0,} \n",
    "be_1 = {\"filename\": \"be_1.dat\", \"factor\": 1.0,} \n",
    "be_2 = {\"filename\": \"be_2.dat\", \"factor\": 1.0,} \n",
    "be_3 = {\"filename\": \"be_3.dat\", \"factor\": 1.0,} \n",
    "be_4 = {\"filename\": \"be_4.dat\", \"factor\": 1.0,} \n",
    "ib_1 = {\"filename\": \"ibound_1.dat\", \"factor\": 1.0,}\n",
    "ib_2 = {\"filename\": \"ibound_2.dat\", \"factor\": 1.0,}\n",
    "ib_3 = {\"filename\": \"ibound_3.dat\", \"factor\": 1.0,}\n",
    "ib_4 = {\"filename\": \"ibound_4.dat\", \"factor\": 1.0,}\n",
    "in_wl1 = {\"filename\": \"in_wl1.dat\", \"factor\": 1.0,}\n",
    "in_wl2 = {\"filename\": \"in_wl2.dat\", \"factor\": 1.0,}\n",
    "in_wl3 = {\"filename\": \"in_wl3.dat\", \"factor\": 1.0,}\n",
    "in_wl4 = {\"filename\": \"in_wl4.dat\", \"factor\": 1.0,}\n",
    "\n",
    "# Define Grid Properties\n",
    "Lx =  537323.38 #   meters\n",
    "Ly =  453882.13 #   meters\n",
    "ncol = 1000 #  Number of Columns\n",
    "nrow = 800 #  Number of Rows\n",
    "delc = Lx / ncol\n",
    "delr = Ly / nrow\n",
    "\n",
    "# Set No. of Layers, Surface and base elevations\n",
    "nlay = 4 # Number of layers\n",
    "top = se # top of top layer, meter\n",
    "botm = [be_1, be_2, be_3, be_4] # bottom of each layer, meter\n",
    "ibound = [ib_1, ib_2, ib_3, ib_4] # bottom of each layer, meter\n",
    "initial_wl = [in_wl1, in_wl2, in_wl3, in_wl4] # Initial water levels for each layer, m OD\n",
    "print(delc)\n",
    "print(delr)"
   ]
  },
  {
   "cell_type": "code",
   "execution_count": 4,
   "id": "7f245700",
   "metadata": {},
   "outputs": [],
   "source": [
    "# Set Aquifer Properties - Hydraulic conductivities and Storage values\n",
    "\n",
    "k_hor = [0.2781, 0.07515, 0.04247, 0.05022] #[0.0002781, 0.0007515, 0.0004247, 0.0005022]  # horizontal hydraulic conductivity, m/d\n",
    "k_ver = [0.001668, 0.004510, 0.002548, 0.003013] #[0.000001668, 0.000004510, 0.000002548, 0.000003013] # # vertical hydraulic conductivity, m/d\n",
    "sy = [0.15, 0.10, 0.12, 0.13] # Specific yiels, %\n",
    "ss = [0.006, 0.00001, 0.0005, 0.006] # specific storage\n",
    "# porosity = 0.3 # porosity for all the layers"
   ]
  },
  {
   "cell_type": "markdown",
   "id": "64f60f06",
   "metadata": {},
   "source": [
    "## Create Simulation"
   ]
  },
  {
   "cell_type": "code",
   "execution_count": 5,
   "id": "0c8e0c2d",
   "metadata": {},
   "outputs": [],
   "source": [
    "# Simulation\n",
    "sim = fp.mf6.MFSimulation(sim_name=modelname,\n",
    "                         version='mf6',\n",
    "                         exe_name='mf6',\n",
    "                         sim_ws=modelws,\n",
    "                         )\n",
    "#sim = flopy.mf6.MFSimulation(sim_name=name, exe_name=\"mf6\", version=\"mf6\", sim_ws=workspace)"
   ]
  },
  {
   "cell_type": "code",
   "execution_count": 6,
   "id": "6ff16ff7",
   "metadata": {},
   "outputs": [],
   "source": [
    "# Time Discretization Transient State\n",
    "tdis_rc = [\n",
    "            (31, 1, 1.0), (28, 1, 1.0), (31, 1, 1.0), (30, 1, 1.0), (31, 1, 1.0), (30, 1, 1.0),\n",
    "            (31, 1, 1.0), (31, 1, 1.0), (30, 1, 1.0), (31, 1, 1.0), (30, 1, 1.0), (31, 1, 1.0),\n",
    "            (31, 1, 1.0), (28, 1, 1.0), (31, 1, 1.0), (30, 1, 1.0), (31, 1, 1.0), (30, 1, 1.0),\n",
    "            (31, 1, 1.0), (31, 1, 1.0), (30, 1, 1.0), (31, 1, 1.0), (30, 1, 1.0), (31, 1, 1.0),\n",
    "            (31, 1, 1.0), (28, 1, 1.0), (31, 1, 1.0), (30, 1, 1.0), (31, 1, 1.0), (30, 1, 1.0),\n",
    "            (31, 1, 1.0), (31, 1, 1.0), (30, 1, 1.0), (31, 1, 1.0), (30, 1, 1.0), (31, 1, 1.0),\n",
    "            (31, 1, 1.0), (29, 1, 1.0), (31, 1, 1.0), (30, 1, 1.0), (31, 1, 1.0), (30, 1, 1.0),\n",
    "            (31, 1, 1.0), (31, 1, 1.0), (30, 1, 1.0), (31, 1, 1.0), (30, 1, 1.0), (31, 1, 1.0),\n",
    "            (31, 1, 1.0), (28, 1, 1.0), (31, 1, 1.0), (30, 1, 1.0), (31, 1, 1.0), (30, 1, 1.0),\n",
    "            (31, 1, 1.0), (31, 1, 1.0), (30, 1, 1.0), (31, 1, 1.0), (30, 1, 1.0), (31, 1, 1.0),\n",
    "            (31, 1, 1.0), (28, 1, 1.0), (31, 1, 1.0), (30, 1, 1.0), (31, 1, 1.0), (30, 1, 1.0),\n",
    "            (31, 1, 1.0), (31, 1, 1.0), (30, 1, 1.0), (31, 1, 1.0), (30, 1, 1.0), (31, 1, 1.0),\n",
    "            (31, 1, 1.0), (28, 1, 1.0), (31, 1, 1.0), (30, 1, 1.0), (31, 1, 1.0), (30, 1, 1.0),\n",
    "            (31, 1, 1.0), (31, 1, 1.0), (30, 1, 1.0), (31, 1, 1.0), (30, 1, 1.0), (31, 1, 1.0)\n",
    "            ]\n",
    "# Simulation period is: Jan 1, 2013 - Dec 31, 2019\n",
    "# period length, number of steps, timestep multiplier\n",
    "\n",
    "tdis = fp.mf6.ModflowTdis(sim,\n",
    "                         time_units='Days',\n",
    "                          nper=84,\n",
    "                         perioddata=tdis_rc,\n",
    "                         )"
   ]
  },
  {
   "cell_type": "code",
   "execution_count": 7,
   "id": "de1f130a",
   "metadata": {},
   "outputs": [],
   "source": [
    "# Groundwater Flow Model (GWF)\n",
    "# List of Parameters:\n",
    "# simulation, modelname='model', model_nam_file=None, version='mf6', exe_name='mf6', model_rel_path='.', list=None, \n",
    "# print_input=None, print_flows=None, save_flows=None, newtonoptions=None, packages=None, **kwargs\n",
    "\n",
    "gwf = fp.mf6.ModflowGwf(sim,\n",
    "                       modelname=modelname,\n",
    "                       model_nam_file=f\"{modelname}.nam\",\n",
    "                       save_flows=True,\n",
    "                       )"
   ]
  },
  {
   "cell_type": "code",
   "execution_count": 8,
   "id": "bf8eb57a",
   "metadata": {},
   "outputs": [],
   "source": [
    "# Iterative model solution (Ims)\n",
    "\n",
    "# List of Parameters:\n",
    "# simulation, loading_package=False, print_option=None, complexity=None, csv_output_filerecord=None, \n",
    "# csv_outer_output_filerecord=None, csv_inner_output_filerecord=None, no_ptcrecord=None, ats_outer_maximum_fraction=None, \n",
    "# outer_hclose=None, outer_dvclose=None, outer_rclosebnd=None, outer_maximum=None, under_relaxation=None, \n",
    "# under_relaxation_gamma=None, under_relaxation_theta=None, under_relaxation_kappa=None, \n",
    "# under_relaxation_momentum=None, backtracking_number=None, backtracking_tolerance=None, backtracking_reduction_factor=None, \n",
    "# backtracking_residual_limit=None, inner_maximum=None, inner_hclose=None, inner_dvclose=None, rcloserecord=None, \n",
    "# linear_acceleration=None, relaxation_factor=None, preconditioner_levels=None, preconditioner_drop_tolerance=None, \n",
    "# number_orthogonalizations=None, scaling_method=None, reordering_method=None, filename=None, pname=None, **kwargs\n",
    "\n",
    "ims = fp.mf6.ModflowIms(\n",
    "                        sim,\n",
    "                        pname=\"ims\",\n",
    "                        print_option=\"SUMMARY\",\n",
    "                        complexity=\"SIMPLE\",\n",
    "                        outer_dvclose=0.0001,\n",
    "                        outer_maximum=500,\n",
    "                        under_relaxation=\"NONE\",\n",
    "                        inner_maximum=100,\n",
    "                        inner_dvclose=0.0001,\n",
    "                        rcloserecord=0.001,\n",
    "                        linear_acceleration=\"CG\",\n",
    "                        scaling_method=\"NONE\",\n",
    "                        reordering_method=\"NONE\",\n",
    "                        relaxation_factor=0.97,\n",
    "                        )\n",
    "sim.register_ims_package(ims, [gwf.name])"
   ]
  },
  {
   "cell_type": "markdown",
   "id": "11ad4304",
   "metadata": {},
   "source": [
    "# Add Packages to groundwater flow model"
   ]
  },
  {
   "cell_type": "code",
   "execution_count": 23,
   "id": "d98d9e95",
   "metadata": {},
   "outputs": [
    {
     "name": "stdout",
     "output_type": "stream",
     "text": [
      "WARNING: Package with type ic already exists. Replacing existing package.\n"
     ]
    }
   ],
   "source": [
    "#initial conditions\n",
    "#initial_wl = {0: {'filename': 'initial_wl11.dat'}}\n",
    "\n",
    "#strt = {\"filename\": \"in_wl.dat\", \"factor\": 1.0,}\n",
    "\n",
    "ic = fp.mf6.ModflowGwfic(\n",
    "                        model=gwf,\n",
    "                        pname=\"ic\",\n",
    "                        strt=initial_wl,\n",
    "                        filename=\"{}.ic\".format(modelname)\n",
    "                        )"
   ]
  },
  {
   "cell_type": "code",
   "execution_count": 24,
   "id": "cd404a2b",
   "metadata": {},
   "outputs": [
    {
     "name": "stdout",
     "output_type": "stream",
     "text": [
      "WARNING: Package with name chd already exists. Replacing existing package.\n"
     ]
    }
   ],
   "source": [
    "# create the constant head boundary package\n",
    "chd_spd = {0: {\"filename\":\"chd.dat\"}}\n",
    "chd = fp.mf6.ModflowGwfchd(\n",
    "                            model=gwf,\n",
    "                            print_input=True,\n",
    "                            print_flows=True,\n",
    "                            save_flows=True,\n",
    "                            maxbound=7070,\n",
    "                            stress_period_data=chd_spd,\n",
    "                            #parent_file=gwf,\n",
    "                            filename=\"{}.chd\".format(modelname),\n",
    "                            pname='CHD'    \n",
    "                          )"
   ]
  },
  {
   "cell_type": "code",
   "execution_count": 11,
   "id": "ec9a3d2b",
   "metadata": {},
   "outputs": [],
   "source": [
    "# Discretization Package (Gwfdis)\n",
    "\n",
    "# Parameters:\n",
    "# model, loading_package=False, length_units=None, nogrb=None, xorigin=None, \n",
    "# yorigin=None, angrot=None, nlay=1, nrow=2, ncol=2, delr=1.0, delc=1.0, top=1.0, \n",
    "# botm=0.0, idomain=None, filename=None, pname=None, **kwargs\n",
    "#dis.botm.set_record([be_1, be_2, be_3, be_4])\n",
    "dis = fp.mf6.ModflowGwfdis(\n",
    "                          model=gwf,\n",
    "                          length_units='METERS',\n",
    "                          nlay=nlay,\n",
    "                          nrow=nrow,\n",
    "                          ncol=ncol,\n",
    "                          delr=delr,\n",
    "                          delc=delc,\n",
    "                          top= top,\n",
    "                          botm=botm,\n",
    "                          idomain=ibound,\n",
    "                          filename=\"{}.dis\".format(modelname),\n",
    "                          )"
   ]
  },
  {
   "cell_type": "code",
   "execution_count": 12,
   "id": "d2101101",
   "metadata": {},
   "outputs": [],
   "source": [
    "# River Package\n",
    "\n",
    "river_loc = {0: {\"filename\":\"mfrivers.dat\"}}\n",
    "\n",
    "riv = fp.mf6.ModflowGwfriv(\n",
    "                           model=gwf,\n",
    "                           pname=\"riv\",\n",
    "                           print_input=True,\n",
    "                           print_flows=True,\n",
    "                           save_flows=\"{}.cbc\".format(modelname),\n",
    "                           #boundnames=True,\n",
    "                           maxbound=22280,\n",
    "                           stress_period_data=river_loc,\n",
    "                           )"
   ]
  },
  {
   "cell_type": "code",
   "execution_count": 13,
   "id": "a5bfdcd0",
   "metadata": {},
   "outputs": [],
   "source": [
    "# Definition of Well Package\n",
    "bh_loc = {0: {\"filename\": \"1bhloc.dat\"},\n",
    "          7: {\"filename\": \"2bhloc.dat\"},\n",
    "          9: {\"filename\": \"3bhloc.dat\"},\n",
    "          12: {\"filename\": \"1bhloc.dat\"},\n",
    "          18: {\"filename\": \"2bhloc.dat\"},\n",
    "          21: {\"filename\": \"3bhloc.dat\"},\n",
    "          24: {\"filename\": \"1bhloc.dat\"},\n",
    "          30: {\"filename\": \"2bhloc.dat\"},\n",
    "          33: {\"filename\": \"3bhloc.dat\"},\n",
    "          36: {\"filename\": \"1bhloc.dat\"},\n",
    "          42: {\"filename\": \"2bhloc.dat\"},\n",
    "          45: {\"filename\": \"3bhloc.dat\"},\n",
    "          48: {\"filename\": \"1bhloc.dat\"},\n",
    "          54: {\"filename\": \"2bhloc.dat\"},\n",
    "          57: {\"filename\": \"3bhloc.dat\"},\n",
    "          60: {\"filename\": \"1bhloc.dat\"},\n",
    "          66: {\"filename\": \"2bhloc.dat\"},\n",
    "          69: {\"filename\": \"3bhloc.dat\"},\n",
    "          72: {\"filename\": \"1bhloc.dat\"},\n",
    "          78: {\"filename\": \"2bhloc.dat\"},\n",
    "          81: {\"filename\": \"3bhloc.dat\"}\n",
    "         }\n",
    "\n",
    "wel = fp.mf6.ModflowGwfwel(\n",
    "                            model=gwf,\n",
    "                            pname=\"wel\",\n",
    "                            print_input=True,\n",
    "                            print_flows=True,\n",
    "                            #auxiliary=[(\"var1\", \"var2\", \"var3\")],\n",
    "                            maxbound=1509,\n",
    "                            stress_period_data=bh_loc,\n",
    "                            #boundnames=True,\n",
    "                            save_flows=True,\n",
    "                            )\n"
   ]
  },
  {
   "cell_type": "code",
   "execution_count": 14,
   "id": "fdf1bb21",
   "metadata": {},
   "outputs": [],
   "source": [
    "# Node Property Flow Package (Gwfnpf)\n",
    "npf = fp.mf6.ModflowGwfnpf(gwf,\n",
    "                          save_specific_discharge=True,\n",
    "                          icelltype=[1, 1, 1, 1], # top layer is unconfined\n",
    "                          k=k_hor, # horizontal k value\n",
    "                          k33=k_ver, # vertical k value\n",
    "                          )"
   ]
  },
  {
   "cell_type": "code",
   "execution_count": 15,
   "id": "9c61be28",
   "metadata": {},
   "outputs": [],
   "source": [
    "# Storage Package\n",
    "\n",
    "sto = fp.mf6.ModflowGwfsto(\n",
    "                            model=gwf,\n",
    "                            pname=\"sto\",\n",
    "                            save_flows=True,\n",
    "                            iconvert=1,\n",
    "                            ss=ss,\n",
    "                            sy=sy,\n",
    "                            steady_state={0: True},\n",
    "                            transient={1: True},\n",
    "                            )"
   ]
  },
  {
   "cell_type": "code",
   "execution_count": 16,
   "id": "0442c550",
   "metadata": {},
   "outputs": [],
   "source": [
    "# rch\n",
    "\n",
    "#transient with time-varying recharge\n",
    "rch_dry = 0.0\n",
    "rch_wet = 0.000137\n",
    "rch_semiwet = 0.0000274\n",
    "rech = {}\n",
    "rech[0] = rch_dry #stress period 1 to 6 (Jan - June) 0.0 mm/yr\n",
    "rech[7] = rch_wet #stress period 7 to 9 (July - Sept) 50.0 mm/yr\n",
    "rech[9] = rch_semiwet #stress period 9 to 12 (Oct - Dec) 10 mm/yr\n",
    "rech[12] = rch_dry #stress period 1 to 6 (Jan - June) 0.0 mm/yr\n",
    "rech[18] = rch_wet #stress period 7 to 9 (July - Sept) 50.0 mm/yr\n",
    "rech[21] = rch_semiwet #stress period 9 to 12 (Oct - Dec) 10 mm/yr\n",
    "rech[24] = rch_dry #stress period 1 to 6 (Jan - June) 0.0 mm/yr\n",
    "rech[30] = rch_wet #stress period 7 to 9 (July - Sept) 50.0 mm/yr\n",
    "rech[33] = rch_semiwet #stress period 9 to 12 (Oct - Dec) 10 mm/yr\n",
    "rech[36] = rch_dry #stress period 1 to 6 (Jan - June) 0.0 mm/yr\n",
    "rech[42] = rch_wet #stress period 7 to 9 (July - Sept) 50.0 mm/yr\n",
    "rech[45] = rch_semiwet #stress period 9 to 12 (Oct - Dec) 10 mm/yr\n",
    "rech[48] = rch_dry #stress period 1 to 6 (Jan - June) 0.0 mm/yr\n",
    "rech[54] = rch_wet #stress period 7 to 9 (July - Sept) 50.0 mm/yr\n",
    "rech[57] = rch_semiwet #stress period 9 to 12 (Oct - Dec) 10 mm/yr\n",
    "rech[60] = rch_dry #stress period 1 to 6 (Jan - June) 0.0 mm/yr\n",
    "rech[66] = rch_wet #stress period 7 to 9 (July - Sept) 50.0 mm/yr\n",
    "rech[69] = rch_semiwet #stress period 9 to 12 (Oct - Dec) 10 mm/yr\n",
    "rech[72] = rch_dry #stress period 1 to 6 (Jan - June) 0.0 mm/yr\n",
    "rech[78] = rch_wet #stress period 7 to 9 (July - Sept) 50.0 mm/yr\n",
    "rech[81] = rch_semiwet #stress period 9 to 12 (Oct - Dec) 10 mm/yr\n",
    "\n",
    "#rch = flopy.modflow.ModflowRch(m, nrchop=3, rech=rech)\n",
    "#recharge = {0: {'filename': 'recharge.dat'}} #, 'data': np.ones((nrow, ncol)) * 0.005}}\n",
    "\n",
    "rch = fp.mf6.ModflowGwfrcha(\n",
    "                            model=gwf, \n",
    "                            nrchop=3,\n",
    "                            recharge=rech,\n",
    "                            filename=\"{}.rch\".format(modelname),\n",
    "                            pname=\"rch\",\n",
    "                            #fixed_cell=True,\n",
    "                            #auxiliary=\"MULTIPLIER\",\n",
    "                            #auxmultname=\"MULTIPLIER\",\n",
    "                            print_input=True,\n",
    "                            print_flows=True,\n",
    "                            save_flows=True,\n",
    "                            maxbound=20,\n",
    "                            stress_period_data=rech,\n",
    "                            )"
   ]
  },
  {
   "cell_type": "code",
   "execution_count": 17,
   "id": "c8caac47",
   "metadata": {},
   "outputs": [],
   "source": [
    "# Evapotranspiration\n",
    "# Parametr Lists\n",
    "# model, loading_package=False, fixed_cell=None, auxiliary=None, auxmultname=None, boundnames=None, \n",
    "# print_input=None, print_flows=None, save_flows=None, timeseries=None, observations=None, \n",
    "# surf_rate_specified=None, maxbound=None, nseg=None, stress_period_data=None, filename=None, pname=None, **kwargs\n",
    "\n",
    "evtr = {0: {\"filename\": \"mevt.dat\"}}\n",
    "evt = fp.mf6.ModflowGwfevt(\n",
    "                            gwf,\n",
    "                            pname=\"evt\",\n",
    "                            filename=\"{}.evt\".format(modelname),\n",
    "                            print_input=True,\n",
    "                            print_flows=True,\n",
    "                            save_flows=True,\n",
    "                            maxbound=9900,\n",
    "                            nseg=1,\n",
    "                            stress_period_data=evtr, \n",
    "                            )"
   ]
  },
  {
   "cell_type": "code",
   "execution_count": 18,
   "id": "d7336dc7",
   "metadata": {
    "scrolled": false
   },
   "outputs": [],
   "source": [
    "# Output Control (Gwfoc)\n",
    "\n",
    "oc = fp.mf6.ModflowGwfoc(\n",
    "                            model=gwf,\n",
    "                            pname=\"oc\",\n",
    "                            filename=\"{}.oc\".format(modelname),\n",
    "                            budget_filerecord=\"{}.cbc\".format(modelname),\n",
    "                            head_filerecord=\"{}.hds\".format(modelname),\n",
    "                            headprintrecord=[(\"COLUMNS\", 10, \"WIDTH\", 15, \"DIGITS\", 6, \"GENERAL\")],\n",
    "                            saverecord=[(\"HEAD\", \"ALL\"), (\"BUDGET\", \"ALL\")],\n",
    "                            printrecord=[(\"HEAD\", \"FIRST\"), (\"HEAD\", \"LAST\"), (\"BUDGET\", \"LAST\")],\n",
    "                            )"
   ]
  },
  {
   "cell_type": "markdown",
   "id": "45c13410",
   "metadata": {},
   "source": [
    "# Check input"
   ]
  },
  {
   "cell_type": "code",
   "execution_count": 25,
   "id": "fea1fc55",
   "metadata": {},
   "outputs": [
    {
     "data": {
      "text/plain": [
       "<matplotlib.collections.QuadMesh at 0x24297d3df90>"
      ]
     },
     "execution_count": 25,
     "metadata": {},
     "output_type": "execute_result"
    },
    {
     "data": {
      "image/png": "[encoded data removed]",
      "text/plain": [
       "<Figure size 500x500 with 1 Axes>"
      ]
     },
     "metadata": {},
     "output_type": "display_data"
    }
   ],
   "source": [
    "pmv = fp.plot.PlotMapView(model=gwf)\n",
    "pmv.plot_bc('CHD', color='r')\n",
    "pmv.plot_bc('RIV', color='b')\n",
    "pmv.plot_bc('WEL', plotAll=True, color='r', lw=1)\n",
    "#pmv.plot_grid(color='silver', lw=1);"
   ]
  },
  {
   "cell_type": "code",
   "execution_count": 26,
   "id": "04aa3c8c",
   "metadata": {},
   "outputs": [
    {
     "data": {
      "image/png": "[encoded data removed]",
      "text/plain": [
       "<Figure size 500x300 with 1 Axes>"
      ]
     },
     "metadata": {},
     "output_type": "display_data"
    }
   ],
   "source": [
    "plt.figure(figsize=(5, 3))\n",
    "pxs = fp.plot.PlotCrossSection(model=gwf, line={\"Row\": 500})\n",
    "pxs.plot_bc('CHD')\n",
    "pxs.plot_bc('RIV')\n",
    "pxs.plot_bc('WEL')\n",
    "pxs.plot_grid(colors='blue', lw=10);"
   ]
  },
  {
   "cell_type": "markdown",
   "id": "ee669e22",
   "metadata": {},
   "source": [
    "## Create the MODFLOW 6 Input Files and Run the Model\n",
    "\n",
    "#### Once all the flopy objects are created, it is very easy to create all of the input files and run the model."
   ]
  },
  {
   "cell_type": "markdown",
   "id": "d1724ca2",
   "metadata": {},
   "source": [
    "# Solve model"
   ]
  },
  {
   "cell_type": "code",
   "execution_count": 27,
   "id": "281eda0d",
   "metadata": {},
   "outputs": [
    {
     "name": "stdout",
     "output_type": "stream",
     "text": [
      "writing simulation...\n",
      "  writing simulation name file...\n",
      "  writing simulation tdis package...\n",
      "  writing ims package ims...\n",
      "  writing model sokotoproject5...\n",
      "    writing model name file...\n",
      "    writing package dis...\n",
      "    writing package riv...\n",
      "    writing package wel...\n",
      "    writing package npf...\n",
      "    writing package sto...\n",
      "    writing package rch...\n",
      "    writing package evt...\n",
      "    writing package oc...\n",
      "    writing package ic...\n",
      "    writing package chd...\n"
     ]
    }
   ],
   "source": [
    "sim.write_simulation();"
   ]
  },
  {
   "cell_type": "code",
   "execution_count": 28,
   "id": "451ccf05",
   "metadata": {},
   "outputs": [
    {
     "name": "stdout",
     "output_type": "stream",
     "text": [
      "['1bhloc.dat', '2bhloc.dat', '3bhloc.dat', 'be_1.dat', 'be_2.dat', 'be_3.dat', 'be_4.dat', 'b_dry1.dat', 'chd.dat', 'f_sim_wl.dat', 'ibound_1.dat', 'ibound_2.dat', 'ibound_3.dat', 'ibound_4.dat', 'ib_1.dat', 'ib_2.dat', 'ib_3.dat', 'ib_4.dat', 'in_wl1.dat', 'in_wl2.dat', 'in_wl3.dat', 'in_wl4.dat', 'lc_1.dat', 'mevt.dat', 'mfrivers.dat', 'mfsim.lst', 'mfsim.nam', 'Old', 'se.dat', 'sim_wl.dat', 'sokotoproject5.cbc', 'sokotoproject5.chd', 'sokotoproject5.dis', 'sokotoproject5.dis.grb', 'sokotoproject5.evt', 'sokotoproject5.hds', 'sokotoproject5.ic', 'sokotoproject5.ims', 'sokotoproject5.lst', 'sokotoproject5.nam', 'sokotoproject5.npf', 'sokotoproject5.oc', 'sokotoproject5.rch', 'sokotoproject5.riv', 'sokotoproject5.sto', 'sokotoproject5.tdis', 'sokotoproject5.wel', 'xaa.dat', 'xab', 'xac', 'xad.dat', 'xae', 'xaf', 'xag.dat', 'xah', 'xai', 'xaj.dat', 'xak', 'xal', 'xam', 'xan.dat', 'xao', 'xap', 'xaq.dat', 'xar', 'xas', 'xat.dat', 'xau', 'xav', 'xaw.dat', 'xax', 'xay', 'xaz', 'xba', 'xbb.dat']\n"
     ]
    }
   ],
   "source": [
    "# Print a list of the files that were created in workspace\n",
    "print(os.listdir(modelws))"
   ]
  },
  {
   "cell_type": "markdown",
   "id": "a30d6986",
   "metadata": {},
   "source": [
    "## Run the Simulation\n",
    "\n",
    "#### We can also run the simulation from the notebook, but only if the MODFLOW 6 executable is available. \n",
    "#### The executable can be made available by putting the executable in a folder that is listed in the system path variable.\n",
    "#### Another option is to just put a copy of the executable in the simulation folder, though this should generally be avoided. \n",
    "#### A final option is to provide a full path to the executable when the simulation is constructed. \n",
    "#### This would be done by specifying exe_name with the full path."
   ]
  },
  {
   "cell_type": "code",
   "execution_count": 29,
   "id": "ce018d41",
   "metadata": {
    "scrolled": false
   },
   "outputs": [
    {
     "name": "stdout",
     "output_type": "stream",
     "text": [
      "FloPy is using the following executable to run the model: C:\\Users\\olayi\\AppData\\Local\\flopy\\bin\\mf6.EXE\n",
      "                                   MODFLOW 6\n",
      "                U.S. GEOLOGICAL SURVEY MODULAR HYDROLOGIC MODEL\n",
      "                        VERSION 6.4.1 Release 12/09/2022\n",
      "\n",
      "   MODFLOW 6 compiled Dec 10 2022 05:57:01 with Intel(R) Fortran Intel(R) 64\n",
      "   Compiler Classic for applications running on Intel(R) 64, Version 2021.7.0\n",
      "                             Build 20220726_000000\n",
      "\n",
      "This software has been approved for release by the U.S. Geological \n",
      "Survey (USGS). Although the software has been subjected to rigorous \n",
      "review, the USGS reserves the right to update the software as needed \n",
      "pursuant to further analysis and review. No warranty, expressed or \n",
      "implied, is made by the USGS or the U.S. Government as to the \n",
      "functionality of the software and related material nor shall the \n",
      "fact of release constitute any such warranty. Furthermore, the \n",
      "software is released on condition that neither the USGS nor the U.S. \n",
      "Government shall be held liable for any damages resulting from its \n",
      "authorized or unauthorized use. Also refer to the USGS Water \n",
      "Resources Software User Rights Notice for complete use, copyright, \n",
      "and distribution information.\n",
      "\n",
      " \n",
      " Run start date and time (yyyy/mm/dd hh:mm:ss): 2024/03/23 12:09:08\n",
      " \n",
      " Writing simulation list file: mfsim.lst\n",
      " Using Simulation name file: mfsim.nam\n",
      " \n",
      "    Solving:  Stress period:     1    Time step:     1\n",
      "    Solving:  Stress period:     2    Time step:     1\n",
      "    Solving:  Stress period:     3    Time step:     1\n",
      "    Solving:  Stress period:     4    Time step:     1\n",
      "    Solving:  Stress period:     5    Time step:     1\n",
      "    Solving:  Stress period:     6    Time step:     1\n",
      "    Solving:  Stress period:     7    Time step:     1\n",
      "    Solving:  Stress period:     8    Time step:     1\n",
      "    Solving:  Stress period:     9    Time step:     1\n",
      "    Solving:  Stress period:    10    Time step:     1\n",
      "    Solving:  Stress period:    11    Time step:     1\n",
      "    Solving:  Stress period:    12    Time step:     1\n",
      "    Solving:  Stress period:    13    Time step:     1\n",
      "    Solving:  Stress period:    14    Time step:     1\n",
      "    Solving:  Stress period:    15    Time step:     1\n",
      "    Solving:  Stress period:    16    Time step:     1\n",
      "    Solving:  Stress period:    17    Time step:     1\n",
      "    Solving:  Stress period:    18    Time step:     1\n",
      "    Solving:  Stress period:    19    Time step:     1\n",
      "    Solving:  Stress period:    20    Time step:     1\n",
      "    Solving:  Stress period:    21    Time step:     1\n",
      "    Solving:  Stress period:    22    Time step:     1\n",
      "    Solving:  Stress period:    23    Time step:     1\n",
      "    Solving:  Stress period:    24    Time step:     1\n",
      "    Solving:  Stress period:    25    Time step:     1\n",
      "    Solving:  Stress period:    26    Time step:     1\n",
      "    Solving:  Stress period:    27    Time step:     1\n",
      "    Solving:  Stress period:    28    Time step:     1\n",
      "    Solving:  Stress period:    29    Time step:     1\n",
      "    Solving:  Stress period:    30    Time step:     1\n",
      "    Solving:  Stress period:    31    Time step:     1\n",
      "    Solving:  Stress period:    32    Time step:     1\n",
      "    Solving:  Stress period:    33    Time step:     1\n",
      "    Solving:  Stress period:    34    Time step:     1\n",
      "    Solving:  Stress period:    35    Time step:     1\n",
      "    Solving:  Stress period:    36    Time step:     1\n",
      "    Solving:  Stress period:    37    Time step:     1\n",
      "    Solving:  Stress period:    38    Time step:     1\n",
      "    Solving:  Stress period:    39    Time step:     1\n",
      "    Solving:  Stress period:    40    Time step:     1\n",
      "    Solving:  Stress period:    41    Time step:     1\n",
      "    Solving:  Stress period:    42    Time step:     1\n",
      "    Solving:  Stress period:    43    Time step:     1\n",
      "    Solving:  Stress period:    44    Time step:     1\n",
      "    Solving:  Stress period:    45    Time step:     1\n",
      "    Solving:  Stress period:    46    Time step:     1\n",
      "    Solving:  Stress period:    47    Time step:     1\n",
      "    Solving:  Stress period:    48    Time step:     1\n",
      "    Solving:  Stress period:    49    Time step:     1\n",
      "    Solving:  Stress period:    50    Time step:     1\n",
      "    Solving:  Stress period:    51    Time step:     1\n",
      "    Solving:  Stress period:    52    Time step:     1\n",
      "    Solving:  Stress period:    53    Time step:     1\n",
      "    Solving:  Stress period:    54    Time step:     1\n",
      "    Solving:  Stress period:    55    Time step:     1\n",
      "    Solving:  Stress period:    56    Time step:     1\n",
      "    Solving:  Stress period:    57    Time step:     1\n",
      "    Solving:  Stress period:    58    Time step:     1\n",
      "    Solving:  Stress period:    59    Time step:     1\n",
      "    Solving:  Stress period:    60    Time step:     1\n",
      "    Solving:  Stress period:    61    Time step:     1\n",
      "    Solving:  Stress period:    62    Time step:     1\n",
      "    Solving:  Stress period:    63    Time step:     1\n",
      "    Solving:  Stress period:    64    Time step:     1\n",
      "    Solving:  Stress period:    65    Time step:     1\n",
      "    Solving:  Stress period:    66    Time step:     1\n",
      "    Solving:  Stress period:    67    Time step:     1\n",
      "    Solving:  Stress period:    68    Time step:     1\n",
      "    Solving:  Stress period:    69    Time step:     1\n",
      "    Solving:  Stress period:    70    Time step:     1\n",
      "    Solving:  Stress period:    71    Time step:     1\n",
      "    Solving:  Stress period:    72    Time step:     1\n",
      "    Solving:  Stress period:    73    Time step:     1\n",
      "    Solving:  Stress period:    74    Time step:     1\n",
      "    Solving:  Stress period:    75    Time step:     1\n",
      "    Solving:  Stress period:    76    Time step:     1\n",
      "    Solving:  Stress period:    77    Time step:     1\n",
      "    Solving:  Stress period:    78    Time step:     1\n",
      "    Solving:  Stress period:    79    Time step:     1\n",
      "    Solving:  Stress period:    80    Time step:     1\n",
      "    Solving:  Stress period:    81    Time step:     1\n",
      "    Solving:  Stress period:    82    Time step:     1\n",
      "    Solving:  Stress period:    83    Time step:     1\n",
      "    Solving:  Stress period:    84    Time step:     1\n",
      " \n",
      " Run end date and time (yyyy/mm/dd hh:mm:ss): 2024/03/23 13:12:20\n",
      " Elapsed run time:  1 Hours,  3 Minutes, 12 Seconds\n",
      " \n",
      " Normal termination of simulation.\n"
     ]
    }
   ],
   "source": [
    "# Run the simulation\n",
    "#success, buff = sim.run_simulation(silent=True, report=True)\n",
    "#if success:\n",
    "#    for line in buff:\n",
    "#        print(line)\n",
    "#else:\n",
    "#    raise ValueError(\"Failed to run.\")\n",
    "\n",
    "sim.run_simulation();"
   ]
  },
  {
   "cell_type": "code",
   "execution_count": null,
   "id": "447ebf99",
   "metadata": {},
   "outputs": [],
   "source": []
  }
 ],
 "metadata": {
  "kernelspec": {
   "display_name": "Python 3 (ipykernel)",
   "language": "python",
   "name": "python3"
  },
  "language_info": {
   "codemirror_mode": {
    "name": "ipython",
    "version": 3
   },
   "file_extension": ".py",
   "mimetype": "text/x-python",
   "name": "python",
   "nbconvert_exporter": "python",
   "pygments_lexer": "ipython3",
   "version": "3.11.2"
  },
  "varInspector": {
   "cols": {
    "lenName": 16,
    "lenType": 16,
    "lenVar": 40
   },
   "kernels_config": {
    "python": {
     "delete_cmd_postfix": "",
     "delete_cmd_prefix": "del ",
     "library": "var_list.py",
     "varRefreshCmd": "print(var_dic_list())"
    },
    "r": {
     "delete_cmd_postfix": ") ",
     "delete_cmd_prefix": "rm(",
     "library": "var_list.r",
     "varRefreshCmd": "cat(var_dic_list()) "
    }
   },
   "types_to_exclude": [
    "module",
    "function",
    "builtin_function_or_method",
    "instance",
    "_Feature"
   ],
   "window_display": false
  }
 },
 "nbformat": 4,
 "nbformat_minor": 5
}
